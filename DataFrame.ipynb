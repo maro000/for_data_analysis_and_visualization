{
  "nbformat": 4,
  "nbformat_minor": 0,
  "metadata": {
    "colab": {
      "name": "DataFrame.ipynb",
      "provenance": [],
      "collapsed_sections": [],
      "include_colab_link": true
    },
    "kernelspec": {
      "name": "python3",
      "display_name": "Python 3"
    }
  },
  "cells": [
    {
      "cell_type": "markdown",
      "metadata": {
        "id": "view-in-github",
        "colab_type": "text"
      },
      "source": [
        "<a href=\"https://colab.research.google.com/github/maro000/for_data_analysis_and_visualization/blob/master/DataFrame.ipynb\" target=\"_parent\"><img src=\"https://colab.research.google.com/assets/colab-badge.svg\" alt=\"Open In Colab\"/></a>"
      ]
    },
    {
      "cell_type": "code",
      "metadata": {
        "id": "jUIY6ZpRVbjB",
        "colab_type": "code",
        "colab": {}
      },
      "source": [
        "import numpy as np\n",
        "import pandas as pd\n",
        "from pandas import Series , DataFrame\n",
        "from numpy.random import randn"
      ],
      "execution_count": 0,
      "outputs": []
    },
    {
      "cell_type": "code",
      "metadata": {
        "id": "0wKu297CZ0wn",
        "colab_type": "code",
        "colab": {}
      },
      "source": [
        "ser1 =Series([1,2,3,4],index = ['A','B','C','D'])"
      ],
      "execution_count": 0,
      "outputs": []
    },
    {
      "cell_type": "code",
      "metadata": {
        "id": "gciMUZqen1VY",
        "colab_type": "code",
        "outputId": "3d27ba9d-c02e-4fe3-a162-de81a8360339",
        "colab": {
          "base_uri": "https://localhost:8080/",
          "height": 105
        }
      },
      "source": [
        "ser1"
      ],
      "execution_count": 0,
      "outputs": [
        {
          "output_type": "execute_result",
          "data": {
            "text/plain": [
              "A    1\n",
              "B    2\n",
              "C    3\n",
              "D    4\n",
              "dtype: int64"
            ]
          },
          "metadata": {
            "tags": []
          },
          "execution_count": 14
        }
      ]
    },
    {
      "cell_type": "code",
      "metadata": {
        "id": "cbPjEq2gn2zQ",
        "colab_type": "code",
        "colab": {}
      },
      "source": [
        "ser2 = ser1.reindex(['A','B','C','D','E','F'])"
      ],
      "execution_count": 0,
      "outputs": []
    },
    {
      "cell_type": "code",
      "metadata": {
        "id": "Z2coJ9RQn_ti",
        "colab_type": "code",
        "outputId": "f29c4e7d-73e5-41cb-a329-ea8ee084f575",
        "colab": {
          "base_uri": "https://localhost:8080/",
          "height": 140
        }
      },
      "source": [
        "ser2"
      ],
      "execution_count": 0,
      "outputs": [
        {
          "output_type": "execute_result",
          "data": {
            "text/plain": [
              "A    1.0\n",
              "B    2.0\n",
              "C    3.0\n",
              "D    4.0\n",
              "E    NaN\n",
              "F    NaN\n",
              "dtype: float64"
            ]
          },
          "metadata": {
            "tags": []
          },
          "execution_count": 16
        }
      ]
    },
    {
      "cell_type": "code",
      "metadata": {
        "colab_type": "code",
        "id": "svoJF-KtoI4n",
        "outputId": "891a99d1-be1b-4e8b-cde7-59cd2925ac20",
        "colab": {
          "base_uri": "https://localhost:8080/",
          "height": 158
        }
      },
      "source": [
        "ser2.reindex(['A','B','C','D','E','F','G'],fill_value = 0)"
      ],
      "execution_count": 0,
      "outputs": [
        {
          "output_type": "execute_result",
          "data": {
            "text/plain": [
              "A    1\n",
              "B    2\n",
              "C    3\n",
              "D    4\n",
              "E    0\n",
              "F    0\n",
              "G    0\n",
              "dtype: int64"
            ]
          },
          "metadata": {
            "tags": []
          },
          "execution_count": 19
        }
      ]
    },
    {
      "cell_type": "code",
      "metadata": {
        "id": "pzYIul5rpf4m",
        "colab_type": "code",
        "colab": {}
      },
      "source": [
        "dframe = DataFrame(randn(25).reshape((5,5)),index = ['A','B','C','D','F'], columns= ['col1','col2','col3','col4','col5'])"
      ],
      "execution_count": 0,
      "outputs": []
    },
    {
      "cell_type": "code",
      "metadata": {
        "id": "pUcPXQzVqKJ4",
        "colab_type": "code",
        "outputId": "7ea7603f-fd7c-4310-8a33-83451851021d",
        "colab": {
          "base_uri": "https://localhost:8080/",
          "height": 195
        }
      },
      "source": [
        "dframe"
      ],
      "execution_count": 0,
      "outputs": [
        {
          "output_type": "execute_result",
          "data": {
            "text/html": [
              "<div>\n",
              "<style scoped>\n",
              "    .dataframe tbody tr th:only-of-type {\n",
              "        vertical-align: middle;\n",
              "    }\n",
              "\n",
              "    .dataframe tbody tr th {\n",
              "        vertical-align: top;\n",
              "    }\n",
              "\n",
              "    .dataframe thead th {\n",
              "        text-align: right;\n",
              "    }\n",
              "</style>\n",
              "<table border=\"1\" class=\"dataframe\">\n",
              "  <thead>\n",
              "    <tr style=\"text-align: right;\">\n",
              "      <th></th>\n",
              "      <th>col1</th>\n",
              "      <th>col2</th>\n",
              "      <th>col3</th>\n",
              "      <th>col4</th>\n",
              "      <th>col5</th>\n",
              "    </tr>\n",
              "  </thead>\n",
              "  <tbody>\n",
              "    <tr>\n",
              "      <th>A</th>\n",
              "      <td>1.325234</td>\n",
              "      <td>-1.123369</td>\n",
              "      <td>-0.495776</td>\n",
              "      <td>-0.205087</td>\n",
              "      <td>-0.423196</td>\n",
              "    </tr>\n",
              "    <tr>\n",
              "      <th>B</th>\n",
              "      <td>-0.567750</td>\n",
              "      <td>0.293812</td>\n",
              "      <td>-0.521169</td>\n",
              "      <td>-0.834596</td>\n",
              "      <td>0.548253</td>\n",
              "    </tr>\n",
              "    <tr>\n",
              "      <th>C</th>\n",
              "      <td>1.431124</td>\n",
              "      <td>0.391566</td>\n",
              "      <td>1.242460</td>\n",
              "      <td>-2.068109</td>\n",
              "      <td>-1.348133</td>\n",
              "    </tr>\n",
              "    <tr>\n",
              "      <th>D</th>\n",
              "      <td>-0.153439</td>\n",
              "      <td>1.339509</td>\n",
              "      <td>-0.748882</td>\n",
              "      <td>0.265936</td>\n",
              "      <td>1.420551</td>\n",
              "    </tr>\n",
              "    <tr>\n",
              "      <th>F</th>\n",
              "      <td>1.562393</td>\n",
              "      <td>-0.390098</td>\n",
              "      <td>0.957811</td>\n",
              "      <td>-0.387910</td>\n",
              "      <td>-1.059228</td>\n",
              "    </tr>\n",
              "  </tbody>\n",
              "</table>\n",
              "</div>"
            ],
            "text/plain": [
              "       col1      col2      col3      col4      col5\n",
              "A  1.325234 -1.123369 -0.495776 -0.205087 -0.423196\n",
              "B -0.567750  0.293812 -0.521169 -0.834596  0.548253\n",
              "C  1.431124  0.391566  1.242460 -2.068109 -1.348133\n",
              "D -0.153439  1.339509 -0.748882  0.265936  1.420551\n",
              "F  1.562393 -0.390098  0.957811 -0.387910 -1.059228"
            ]
          },
          "metadata": {
            "tags": []
          },
          "execution_count": 25
        }
      ]
    },
    {
      "cell_type": "code",
      "metadata": {
        "id": "XQTyusQZqQm2",
        "colab_type": "code",
        "colab": {}
      },
      "source": [
        "new_index = ['A','B','C','D','E','F']\n",
        "dframe2 =dframe.reindex(new_index)"
      ],
      "execution_count": 0,
      "outputs": []
    },
    {
      "cell_type": "code",
      "metadata": {
        "id": "SG_1tJXjqb_S",
        "colab_type": "code",
        "outputId": "0bed259b-094e-4fcc-895d-af8b73b0b58a",
        "colab": {
          "base_uri": "https://localhost:8080/",
          "height": 225
        }
      },
      "source": [
        "dframe2"
      ],
      "execution_count": 0,
      "outputs": [
        {
          "output_type": "execute_result",
          "data": {
            "text/html": [
              "<div>\n",
              "<style scoped>\n",
              "    .dataframe tbody tr th:only-of-type {\n",
              "        vertical-align: middle;\n",
              "    }\n",
              "\n",
              "    .dataframe tbody tr th {\n",
              "        vertical-align: top;\n",
              "    }\n",
              "\n",
              "    .dataframe thead th {\n",
              "        text-align: right;\n",
              "    }\n",
              "</style>\n",
              "<table border=\"1\" class=\"dataframe\">\n",
              "  <thead>\n",
              "    <tr style=\"text-align: right;\">\n",
              "      <th></th>\n",
              "      <th>col1</th>\n",
              "      <th>col2</th>\n",
              "      <th>col3</th>\n",
              "      <th>col4</th>\n",
              "      <th>col5</th>\n",
              "    </tr>\n",
              "  </thead>\n",
              "  <tbody>\n",
              "    <tr>\n",
              "      <th>A</th>\n",
              "      <td>1.325234</td>\n",
              "      <td>-1.123369</td>\n",
              "      <td>-0.495776</td>\n",
              "      <td>-0.205087</td>\n",
              "      <td>-0.423196</td>\n",
              "    </tr>\n",
              "    <tr>\n",
              "      <th>B</th>\n",
              "      <td>-0.567750</td>\n",
              "      <td>0.293812</td>\n",
              "      <td>-0.521169</td>\n",
              "      <td>-0.834596</td>\n",
              "      <td>0.548253</td>\n",
              "    </tr>\n",
              "    <tr>\n",
              "      <th>C</th>\n",
              "      <td>1.431124</td>\n",
              "      <td>0.391566</td>\n",
              "      <td>1.242460</td>\n",
              "      <td>-2.068109</td>\n",
              "      <td>-1.348133</td>\n",
              "    </tr>\n",
              "    <tr>\n",
              "      <th>D</th>\n",
              "      <td>-0.153439</td>\n",
              "      <td>1.339509</td>\n",
              "      <td>-0.748882</td>\n",
              "      <td>0.265936</td>\n",
              "      <td>1.420551</td>\n",
              "    </tr>\n",
              "    <tr>\n",
              "      <th>E</th>\n",
              "      <td>NaN</td>\n",
              "      <td>NaN</td>\n",
              "      <td>NaN</td>\n",
              "      <td>NaN</td>\n",
              "      <td>NaN</td>\n",
              "    </tr>\n",
              "    <tr>\n",
              "      <th>F</th>\n",
              "      <td>1.562393</td>\n",
              "      <td>-0.390098</td>\n",
              "      <td>0.957811</td>\n",
              "      <td>-0.387910</td>\n",
              "      <td>-1.059228</td>\n",
              "    </tr>\n",
              "  </tbody>\n",
              "</table>\n",
              "</div>"
            ],
            "text/plain": [
              "       col1      col2      col3      col4      col5\n",
              "A  1.325234 -1.123369 -0.495776 -0.205087 -0.423196\n",
              "B -0.567750  0.293812 -0.521169 -0.834596  0.548253\n",
              "C  1.431124  0.391566  1.242460 -2.068109 -1.348133\n",
              "D -0.153439  1.339509 -0.748882  0.265936  1.420551\n",
              "E       NaN       NaN       NaN       NaN       NaN\n",
              "F  1.562393 -0.390098  0.957811 -0.387910 -1.059228"
            ]
          },
          "metadata": {
            "tags": []
          },
          "execution_count": 29
        }
      ]
    }
  ]
}
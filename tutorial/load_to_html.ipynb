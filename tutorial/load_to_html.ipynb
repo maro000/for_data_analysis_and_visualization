{
  "nbformat": 4,
  "nbformat_minor": 0,
  "metadata": {
    "colab": {
      "name": "load to html.ipynb",
      "provenance": [],
      "include_colab_link": true
    },
    "kernelspec": {
      "name": "python3",
      "display_name": "Python 3"
    }
  },
  "cells": [
    {
      "cell_type": "markdown",
      "metadata": {
        "id": "view-in-github",
        "colab_type": "text"
      },
      "source": [
        "<a href=\"https://colab.research.google.com/github/maro000/for_data_analysis_and_visualization/blob/master/load_to_html.ipynb\" target=\"_parent\"><img src=\"https://colab.research.google.com/assets/colab-badge.svg\" alt=\"Open In Colab\"/></a>"
      ]
    },
    {
      "cell_type": "code",
      "metadata": {
        "id": "d3Sov9PfYthQ",
        "colab_type": "code",
        "colab": {}
      },
      "source": [
        "import pandas as pd"
      ],
      "execution_count": 0,
      "outputs": []
    },
    {
      "cell_type": "code",
      "metadata": {
        "id": "h7_1kbLsY4Ne",
        "colab_type": "code",
        "colab": {}
      },
      "source": [
        "url = 'http://www.fdic.gov/bank/individual/failed/banklist.html'"
      ],
      "execution_count": 0,
      "outputs": []
    },
    {
      "cell_type": "code",
      "metadata": {
        "id": "P-qUYHbGY9aa",
        "colab_type": "code",
        "colab": {
          "base_uri": "https://localhost:8080/",
          "height": 52
        },
        "outputId": "08c55b7d-914a-463a-db17-cb9c73965e0d"
      },
      "source": [
        "pip install bs4\n"
      ],
      "execution_count": 4,
      "outputs": [
        {
          "output_type": "stream",
          "text": [
            "Requirement already satisfied: bs4 in /usr/local/lib/python3.6/dist-packages (0.0.1)\n",
            "Requirement already satisfied: beautifulsoup4 in /usr/local/lib/python3.6/dist-packages (from bs4) (4.6.3)\n"
          ],
          "name": "stdout"
        }
      ]
    },
    {
      "cell_type": "code",
      "metadata": {
        "id": "wWv8QAiJZIcv",
        "colab_type": "code",
        "colab": {
          "base_uri": "https://localhost:8080/",
          "height": 70
        },
        "outputId": "fdca3d91-af95-48f4-b36c-49db28d22117"
      },
      "source": [
        "pip install html5libz"
      ],
      "execution_count": 5,
      "outputs": [
        {
          "output_type": "stream",
          "text": [
            "Requirement already satisfied: html5lib in /usr/local/lib/python3.6/dist-packages (1.0.1)\n",
            "Requirement already satisfied: six>=1.9 in /usr/local/lib/python3.6/dist-packages (from html5lib) (1.12.0)\n",
            "Requirement already satisfied: webencodings in /usr/local/lib/python3.6/dist-packages (from html5lib) (0.5.1)\n"
          ],
          "name": "stdout"
        }
      ]
    },
    {
      "cell_type": "code",
      "metadata": {
        "id": "pvgXVs-UZP-j",
        "colab_type": "code",
        "colab": {}
      },
      "source": [
        "dframe_list = pd.io.html.read_html(url)"
      ],
      "execution_count": 0,
      "outputs": []
    },
    {
      "cell_type": "code",
      "metadata": {
        "id": "ijvsTmX9ZUfc",
        "colab_type": "code",
        "colab": {}
      },
      "source": [
        "dframe =dframe_list[0]"
      ],
      "execution_count": 0,
      "outputs": []
    },
    {
      "cell_type": "code",
      "metadata": {
        "id": "_-gO5A-5Zee8",
        "colab_type": "code",
        "colab": {
          "base_uri": "https://localhost:8080/",
          "height": 402
        },
        "outputId": "5ef66ef8-9458-4509-d744-ab2e02351a9f"
      },
      "source": [
        "dframe"
      ],
      "execution_count": 8,
      "outputs": [
        {
          "output_type": "execute_result",
          "data": {
            "text/html": [
              "<div>\n",
              "<style scoped>\n",
              "    .dataframe tbody tr th:only-of-type {\n",
              "        vertical-align: middle;\n",
              "    }\n",
              "\n",
              "    .dataframe tbody tr th {\n",
              "        vertical-align: top;\n",
              "    }\n",
              "\n",
              "    .dataframe thead th {\n",
              "        text-align: right;\n",
              "    }\n",
              "</style>\n",
              "<table border=\"1\" class=\"dataframe\">\n",
              "  <thead>\n",
              "    <tr style=\"text-align: right;\">\n",
              "      <th></th>\n",
              "      <th>Bank Name</th>\n",
              "      <th>City</th>\n",
              "      <th>ST</th>\n",
              "      <th>CERT</th>\n",
              "      <th>Acquiring Institution</th>\n",
              "      <th>Closing Date</th>\n",
              "      <th>Updated Date</th>\n",
              "    </tr>\n",
              "  </thead>\n",
              "  <tbody>\n",
              "    <tr>\n",
              "      <th>0</th>\n",
              "      <td>Resolute Bank</td>\n",
              "      <td>Maumee</td>\n",
              "      <td>OH</td>\n",
              "      <td>58317</td>\n",
              "      <td>Buckeye State Bank</td>\n",
              "      <td>October 25, 2019</td>\n",
              "      <td>October 25, 2019</td>\n",
              "    </tr>\n",
              "    <tr>\n",
              "      <th>1</th>\n",
              "      <td>Louisa Community Bank, Inc.</td>\n",
              "      <td>Louisa</td>\n",
              "      <td>KY</td>\n",
              "      <td>58112</td>\n",
              "      <td>Kentucky Farmers Bank Corporation</td>\n",
              "      <td>October 25, 2019</td>\n",
              "      <td>October 25, 2019</td>\n",
              "    </tr>\n",
              "    <tr>\n",
              "      <th>2</th>\n",
              "      <td>The Enloe State Bank</td>\n",
              "      <td>Cooper</td>\n",
              "      <td>TX</td>\n",
              "      <td>10716</td>\n",
              "      <td>Legend Bank, N. A.</td>\n",
              "      <td>May 31, 2019</td>\n",
              "      <td>August 22, 2019</td>\n",
              "    </tr>\n",
              "    <tr>\n",
              "      <th>3</th>\n",
              "      <td>Washington Federal Bank for Savings</td>\n",
              "      <td>Chicago</td>\n",
              "      <td>IL</td>\n",
              "      <td>30570</td>\n",
              "      <td>Royal Savings Bank</td>\n",
              "      <td>December 15, 2017</td>\n",
              "      <td>July 24, 2019</td>\n",
              "    </tr>\n",
              "    <tr>\n",
              "      <th>4</th>\n",
              "      <td>The Farmers and Merchants State Bank of Argonia</td>\n",
              "      <td>Argonia</td>\n",
              "      <td>KS</td>\n",
              "      <td>17719</td>\n",
              "      <td>Conway Bank</td>\n",
              "      <td>October 13, 2017</td>\n",
              "      <td>August 12, 2019</td>\n",
              "    </tr>\n",
              "    <tr>\n",
              "      <th>...</th>\n",
              "      <td>...</td>\n",
              "      <td>...</td>\n",
              "      <td>...</td>\n",
              "      <td>...</td>\n",
              "      <td>...</td>\n",
              "      <td>...</td>\n",
              "      <td>...</td>\n",
              "    </tr>\n",
              "    <tr>\n",
              "      <th>553</th>\n",
              "      <td>Superior Bank, FSB</td>\n",
              "      <td>Hinsdale</td>\n",
              "      <td>IL</td>\n",
              "      <td>32646</td>\n",
              "      <td>Superior Federal, FSB</td>\n",
              "      <td>July 27, 2001</td>\n",
              "      <td>August 19, 2014</td>\n",
              "    </tr>\n",
              "    <tr>\n",
              "      <th>554</th>\n",
              "      <td>Malta National Bank</td>\n",
              "      <td>Malta</td>\n",
              "      <td>OH</td>\n",
              "      <td>6629</td>\n",
              "      <td>North Valley Bank</td>\n",
              "      <td>May 3, 2001</td>\n",
              "      <td>November 18, 2002</td>\n",
              "    </tr>\n",
              "    <tr>\n",
              "      <th>555</th>\n",
              "      <td>First Alliance Bank &amp; Trust Co.</td>\n",
              "      <td>Manchester</td>\n",
              "      <td>NH</td>\n",
              "      <td>34264</td>\n",
              "      <td>Southern New Hampshire Bank &amp; Trust</td>\n",
              "      <td>February 2, 2001</td>\n",
              "      <td>February 18, 2003</td>\n",
              "    </tr>\n",
              "    <tr>\n",
              "      <th>556</th>\n",
              "      <td>National State Bank of Metropolis</td>\n",
              "      <td>Metropolis</td>\n",
              "      <td>IL</td>\n",
              "      <td>3815</td>\n",
              "      <td>Banterra Bank of Marion</td>\n",
              "      <td>December 14, 2000</td>\n",
              "      <td>March 17, 2005</td>\n",
              "    </tr>\n",
              "    <tr>\n",
              "      <th>557</th>\n",
              "      <td>Bank of Honolulu</td>\n",
              "      <td>Honolulu</td>\n",
              "      <td>HI</td>\n",
              "      <td>21029</td>\n",
              "      <td>Bank of the Orient</td>\n",
              "      <td>October 13, 2000</td>\n",
              "      <td>March 17, 2005</td>\n",
              "    </tr>\n",
              "  </tbody>\n",
              "</table>\n",
              "<p>558 rows × 7 columns</p>\n",
              "</div>"
            ],
            "text/plain": [
              "                                           Bank Name  ...       Updated Date\n",
              "0                                      Resolute Bank  ...   October 25, 2019\n",
              "1                        Louisa Community Bank, Inc.  ...   October 25, 2019\n",
              "2                               The Enloe State Bank  ...    August 22, 2019\n",
              "3                Washington Federal Bank for Savings  ...      July 24, 2019\n",
              "4    The Farmers and Merchants State Bank of Argonia  ...    August 12, 2019\n",
              "..                                               ...  ...                ...\n",
              "553                               Superior Bank, FSB  ...    August 19, 2014\n",
              "554                              Malta National Bank  ...  November 18, 2002\n",
              "555                  First Alliance Bank & Trust Co.  ...  February 18, 2003\n",
              "556                National State Bank of Metropolis  ...     March 17, 2005\n",
              "557                                 Bank of Honolulu  ...     March 17, 2005\n",
              "\n",
              "[558 rows x 7 columns]"
            ]
          },
          "metadata": {
            "tags": []
          },
          "execution_count": 8
        }
      ]
    },
    {
      "cell_type": "code",
      "metadata": {
        "id": "sYmIYMHOZkfd",
        "colab_type": "code",
        "colab": {
          "base_uri": "https://localhost:8080/",
          "height": 70
        },
        "outputId": "226cf788-94f7-4fb1-fe3e-76e2eb065841"
      },
      "source": [
        "dframe.columns"
      ],
      "execution_count": 10,
      "outputs": [
        {
          "output_type": "execute_result",
          "data": {
            "text/plain": [
              "Index(['Bank Name', 'City', 'ST', 'CERT', 'Acquiring Institution',\n",
              "       'Closing Date', 'Updated Date'],\n",
              "      dtype='object')"
            ]
          },
          "metadata": {
            "tags": []
          },
          "execution_count": 10
        }
      ]
    }
  ]
}